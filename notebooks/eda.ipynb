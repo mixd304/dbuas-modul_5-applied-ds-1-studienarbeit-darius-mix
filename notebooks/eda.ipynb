{
 "cells": [
  {
   "cell_type": "code",
   "execution_count": null,
   "metadata": {},
   "outputs": [],
   "source": [
    "import os, sys\n",
    "import pandas as pd\n",
    "\n",
    "sys.path.insert(0, os.path.abspath(\"..\"))\n",
    "import lib_py.eda as eda"
   ]
  },
  {
   "cell_type": "code",
   "execution_count": null,
   "metadata": {},
   "outputs": [],
   "source": [
    "df = eda.get_unique_filter_words()\n",
    "with open('all_unique_words.txt', 'a') as f:\n",
    "    dfAsString = df.to_string(header=False, index=False)\n",
    "    f.write(dfAsString)"
   ]
  },
  {
   "cell_type": "code",
   "execution_count": null,
   "metadata": {},
   "outputs": [],
   "source": [
    "word_list = ['schneesport', 'pferdesport', 'medaillesport', 'abonnierenxboxplaystatione', 'abonnierenxbox',\n",
    "             'rtx', '(gv-n', 'kommentieren', 'livesport', 'mediadigitale-sportwissengesundheitkochen']\n",
    "eda.delete_filter_words(word_list)\n",
    "\n",
    "df = eda.get_unique_filter_words()\n",
    "\n",
    "if os.path.exists('unique_words.txt'):\n",
    "  os.remove('unique_words.txt')\n",
    "\n",
    "with open('unique_words.txt', 'a') as f:\n",
    "    dfAsString = df.to_string(header=False, index=False)\n",
    "    f.write(dfAsString)"
   ]
  },
  {
   "cell_type": "code",
   "execution_count": null,
   "metadata": {},
   "outputs": [],
   "source": [
    "df_filterwords_count_total_by_month = eda.get_filterwords_count_total_by_month()\n",
    "print(df_filterwords_count_total_by_month)"
   ]
  },
  {
   "cell_type": "code",
   "execution_count": null,
   "metadata": {},
   "outputs": [],
   "source": [
    "df_filterwords_count_total_by_paper = eda.get_filterwords_count_total_by_paper()\n",
    "print(df_filterwords_count_total_by_paper)"
   ]
  },
  {
   "cell_type": "code",
   "execution_count": null,
   "metadata": {},
   "outputs": [],
   "source": [
    "df_filterwords_count_total_by_paper_group = eda.get_filterwords_count_total_by_paper_group()\n",
    "print(df_filterwords_count_total_by_paper_group)"
   ]
  },
  {
   "cell_type": "code",
   "execution_count": null,
   "metadata": {},
   "outputs": [],
   "source": [
    "df_filterwords_count_total_by_paper_group_and_month = eda.get_filterwords_count_total_by_paper_group_and_month()\n",
    "print(df_filterwords_count_total_by_paper_group_and_month)"
   ]
  },
  {
   "cell_type": "code",
   "execution_count": null,
   "metadata": {},
   "outputs": [],
   "source": [
    "df_games_count_total = eda.get_games_count_total()\n",
    "print(df_games_count_total)"
   ]
  },
  {
   "cell_type": "code",
   "execution_count": null,
   "metadata": {},
   "outputs": [],
   "source": [
    "df_games_count_total_by_month = eda.get_games_count_total_by_month()\n",
    "print(df_games_count_total_by_month)"
   ]
  },
  {
   "cell_type": "code",
   "execution_count": null,
   "metadata": {},
   "outputs": [],
   "source": [
    "df_games_count_by_paper = eda.get_games_count_by_paper()\n",
    "print(df_games_count_by_paper)"
   ]
  },
  {
   "cell_type": "code",
   "execution_count": null,
   "metadata": {},
   "outputs": [],
   "source": [
    "df_games_count_by_paper_group = eda.get_games_count_by_paper_group()\n",
    "print(df_games_count_by_paper_group)"
   ]
  },
  {
   "cell_type": "code",
   "execution_count": null,
   "metadata": {},
   "outputs": [],
   "source": [
    "df_games_count_by_paper_group_and_month = eda.get_games_count_by_paper_group_and_month()\n",
    "print(df_games_count_by_paper_group_and_month)"
   ]
  }
 ],
 "metadata": {
  "kernelspec": {
   "display_name": "dbuas-ads-01-studienarbeit-dariusmix",
   "language": "python",
   "name": "python3"
  },
  "language_info": {
   "codemirror_mode": {
    "name": "ipython",
    "version": 3
   },
   "file_extension": ".py",
   "mimetype": "text/x-python",
   "name": "python",
   "nbconvert_exporter": "python",
   "pygments_lexer": "ipython3",
   "version": "3.10.10"
  },
  "orig_nbformat": 4
 },
 "nbformat": 4,
 "nbformat_minor": 2
}
