{
 "cells": [
  {
   "attachments": {},
   "cell_type": "markdown",
   "metadata": {},
   "source": [
    "Idee:\n",
    "E-Sport\n",
    "- Wie oft wurde E-Sport über die letzten Jahre in den News erwähnt\n",
    "    - Einfluss von Corona, Einfluss von \"Großereignissen\" - League of Legends Worlds, Release von CS2\n",
    "- Wie oft wird das auf welcher Seite erwähnt\n",
    "- Wie oft wurde welches Spiel erwähnt (CS:GO, League of Legends, Fortnite, Dota, PUBG etc.)\n",
    "- Wann schaffen es Computerspiele von der \"Nerd\"-Ecke in den Gesellschaftlichen Fokus\n",
    "- Wird es eher positiv oder negativ gesehen"
   ]
  },
  {
   "cell_type": "code",
   "execution_count": 1,
   "metadata": {},
   "outputs": [],
   "source": [
    "import os, sys\n",
    "import lib_py.scraper as sc\n",
    "import lib_py.etl as etl\n",
    "import lib_py.eda as eda\n",
    "import lib_py.dwh as dwh\n",
    "import lib_py.scraper as sc\n",
    "import pandas as pd\n",
    "import sqlite3\n",
    "import re"
   ]
  },
  {
   "cell_type": "code",
   "execution_count": null,
   "metadata": {},
   "outputs": [],
   "source": [
    "sc.main()"
   ]
  },
  {
   "cell_type": "code",
   "execution_count": null,
   "metadata": {},
   "outputs": [],
   "source": [
    "etl.main()"
   ]
  },
  {
   "cell_type": "code",
   "execution_count": 2,
   "metadata": {},
   "outputs": [
    {
     "name": "stdout",
     "output_type": "stream",
     "text": [
      "[INFO] Processing  output/data-lake/2023-01-01.csv\n"
     ]
    }
   ],
   "source": [
    "dwh.main()\n",
    "etl.process_one_logfile(\"output/data-lake/2023-01-01.csv\")"
   ]
  },
  {
   "cell_type": "code",
   "execution_count": null,
   "metadata": {},
   "outputs": [],
   "source": [
    "newspaper = {'Unnamed: 0': 0,\n",
    "             'name': 't3n',\n",
    "             'date': '2023-03-20',\n",
    "             'file_name': 'data-lake/2023-03-20-t3n.html',\n",
    "             'status': 200,\n",
    "             'original_url': 'https://t3n.de/',\n",
    "             'final_url': 'https://t3n.de/',\n",
    "             'encoding': 'UTF-8'}\n",
    "result = etl.process_wrapper(newspaper)"
   ]
  },
  {
   "cell_type": "code",
   "execution_count": null,
   "metadata": {},
   "outputs": [],
   "source": [
    "print(\"Type of result\", type(result))\n",
    "for key in result:\n",
    "    print()\n",
    "    print(key)\n",
    "    print(type(result[key]))\n",
    "    print(result[key].columns)"
   ]
  }
 ],
 "metadata": {
  "kernelspec": {
   "display_name": "dbuas-ads-01-studienarbeit-dariusmix",
   "language": "python",
   "name": "python3"
  },
  "language_info": {
   "codemirror_mode": {
    "name": "ipython",
    "version": 3
   },
   "file_extension": ".py",
   "mimetype": "text/x-python",
   "name": "python",
   "nbconvert_exporter": "python",
   "pygments_lexer": "ipython3",
   "version": "3.10.10"
  },
  "orig_nbformat": 4
 },
 "nbformat": 4,
 "nbformat_minor": 2
}
