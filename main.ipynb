{
 "cells": [
  {
   "attachments": {},
   "cell_type": "markdown",
   "metadata": {},
   "source": [
    "Idee:\n",
    "E-Sport\n",
    "- Wie oft wurde E-Sport über die letzten Jahre in den News erwähnt\n",
    "    - Einfluss von Corona, Einfluss von \"Großereignissen\" - League of Legends Worlds, CS:GO Major Turniere\n",
    "- Wie oft wird das auf welcher Seite erwähnt\n",
    "- Wie oft wurde welches Spiel erwähnt (CS:GO, League of Legends, Fortnite, Dota, PUBG etc.)"
   ]
  },
  {
   "cell_type": "code",
   "execution_count": null,
   "metadata": {},
   "outputs": [],
   "source": []
  }
 ],
 "metadata": {
  "language_info": {
   "name": "python"
  },
  "orig_nbformat": 4
 },
 "nbformat": 4,
 "nbformat_minor": 2
}
