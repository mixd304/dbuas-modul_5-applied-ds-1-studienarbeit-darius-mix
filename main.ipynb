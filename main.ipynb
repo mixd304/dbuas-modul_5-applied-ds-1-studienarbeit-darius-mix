{
 "cells": [
  {
   "attachments": {},
   "cell_type": "markdown",
   "metadata": {},
   "source": [
    "Idee:\n",
    "E-Sport\n",
    "- Wie oft wurde E-Sport über die letzten Jahre in den News erwähnt\n",
    "    - Einfluss von Corona, Einfluss von \"Großereignissen\" - League of Legends Worlds, CS:GO Major Turniere\n",
    "- Wie oft wird das auf welcher Seite erwähnt\n",
    "- Wie oft wurde welches Spiel erwähnt (CS:GO, League of Legends, Fortnite, Dota, PUBG etc.)"
   ]
  },
  {
   "cell_type": "code",
   "execution_count": 1,
   "metadata": {},
   "outputs": [],
   "source": [
    "import lib_py.scraper as sc\n",
    "import lib_py.etl_new as etl\n",
    "import pandas as pd\n",
    "import os\n",
    "import sqlite3"
   ]
  },
  {
   "attachments": {},
   "cell_type": "markdown",
   "metadata": {},
   "source": [
    "```\n",
    "select * from wordcount where word LIKE '%sport%' order by date\n",
    "select * from wordcount where word LIKE '%sport%' order by paper, date\n",
    "select * from wordcount where word LIKE '%gaming%' order by date\n",
    "select * from wordcount where word LIKE '%gaming%' order by paper, date\n",
    "select sum(count), word from wordcount group by word\n",
    "select sum(count), filter_word, other_word from combinationcount group by filter_word, other_word\n",
    "select * from combinationcount where filter_word = 'league' AND other_word = 'legends' order by date\n",
    "```\n",
    "\n",
    "```\n",
    "SELECT sum(count)\n",
    "\t,filter_word\n",
    "\t,other_word\n",
    "FROM combinationcount\n",
    "WHERE filter_word != 'cs'\n",
    "\tAND (filter_word != 'league' and other_word != 'legends')\n",
    "\tAND filter_word != 'fifa'\n",
    "GROUP BY filter_word\n",
    "\t,other_word\n",
    "ORDER BY sum(count) DESC\n",
    "```"
   ]
  },
  {
   "cell_type": "code",
   "execution_count": null,
   "metadata": {},
   "outputs": [],
   "source": [
    "etl.main()"
   ]
  },
  {
   "cell_type": "code",
   "execution_count": 2,
   "metadata": {},
   "outputs": [
    {
     "name": "stdout",
     "output_type": "stream",
     "text": [
      "[INFO] Processing  output/data-lake/2023-01-01.csv\n"
     ]
    }
   ],
   "source": [
    "etl.process_one_logfile(\"output/data-lake/2023-01-01.csv\")"
   ]
  },
  {
   "cell_type": "code",
   "execution_count": null,
   "metadata": {},
   "outputs": [],
   "source": [
    "newspaper = {'Unnamed: 0': 0,\n",
    "             'name': 'sz',\n",
    "             'date': '2023-03-31',\n",
    "             'file_name': 'data-lake/2023-03-31-sz.html',\n",
    "             'status': 200,\n",
    "             'original_url': 'https://www.sueddeutsche.de/',\n",
    "             'final_url': 'https://www.sueddeutsche.de/',\n",
    "             'encoding': 'UTF-8'}\n",
    "result = etl.process_wrapper(newspaper)"
   ]
  },
  {
   "cell_type": "code",
   "execution_count": null,
   "metadata": {},
   "outputs": [],
   "source": [
    "print(type(result[0]))\n",
    "result[0]"
   ]
  },
  {
   "cell_type": "code",
   "execution_count": null,
   "metadata": {},
   "outputs": [],
   "source": [
    "print(type(result[1]))\n",
    "result[1]"
   ]
  },
  {
   "cell_type": "code",
   "execution_count": null,
   "metadata": {},
   "outputs": [],
   "source": [
    "type(result[1]['count'])"
   ]
  },
  {
   "cell_type": "code",
   "execution_count": null,
   "metadata": {},
   "outputs": [],
   "source": [
    "type(result[0]['count'])"
   ]
  },
  {
   "cell_type": "code",
   "execution_count": null,
   "metadata": {},
   "outputs": [],
   "source": [
    "SQL_PATH = os.path.join(\"output\", \"dwh.sqlite3\")\n",
    "\n",
    "collection_count = []\n",
    "collection_combiniations = []\n",
    "\n",
    "if type(result[0]).__name__ == \"DataFrame\":\n",
    "    collection_count.append(result[0])\n",
    "if type(result[1]).__name__ == \"DataFrame\":\n",
    "    collection_combiniations.append(result[1])\n",
    "\n",
    "data_count = pd.concat(collection_count, axis=0)\n",
    "data_combiniations = pd.concat(collection_combiniations, axis=0)\n",
    "\n",
    "def convert_to_string(lst):\n",
    "    return \", \".join(lst)\n",
    "\n",
    "data_combiniations['other_word'] = data_combiniations['other_word'].apply(convert_to_string)\n",
    "\n",
    "connection = sqlite3.connect(SQL_PATH)\n",
    "data_count.to_sql(\"wordcount\", connection, index=False, if_exists=\"append\", dtype={\"count\":\"INTEGER\"})\n",
    "data_combiniations.to_sql(\"combinationcount\", connection, index=False, if_exists=\"append\", dtype={\"count\":\"INTEGER\"})"
   ]
  }
 ],
 "metadata": {
  "kernelspec": {
   "display_name": "dbuas-ads-01-studienarbeit-dariusmix",
   "language": "python",
   "name": "python3"
  },
  "language_info": {
   "codemirror_mode": {
    "name": "ipython",
    "version": 3
   },
   "file_extension": ".py",
   "mimetype": "text/x-python",
   "name": "python",
   "nbconvert_exporter": "python",
   "pygments_lexer": "ipython3",
   "version": "3.10.10"
  },
  "orig_nbformat": 4
 },
 "nbformat": 4,
 "nbformat_minor": 2
}
